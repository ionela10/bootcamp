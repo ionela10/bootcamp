{
 "cells": [
  {
   "cell_type": "markdown",
   "metadata": {},
   "source": [
    "# Practical exam"
   ]
  },
  {
   "cell_type": "code",
   "execution_count": 3,
   "metadata": {},
   "outputs": [],
   "source": [
    "### Please state your name here: Pastinaru Ionela\n"
   ]
  },
  {
   "cell_type": "code",
   "execution_count": 4,
   "metadata": {},
   "outputs": [
    {
     "name": "stdout",
     "output_type": "stream",
     "text": [
      "Note: you may need to restart the kernel to use updated packages.\n",
      "Note: you may need to restart the kernel to use updated packages.\n"
     ]
    }
   ],
   "source": [
    "# make sure requirements are up to date\n",
    "%pip install --upgrade pip >> results/requirements_log.txt\n",
    "%pip install -r ../requirements.txt >> results/requirements_log.txt"
   ]
  },
  {
   "cell_type": "markdown",
   "metadata": {},
   "source": [
    "### 1.\n",
    "\n",
    "Given the below snippet, add the necessary code lines in function f2 in order to obtain the expected output:"
   ]
  },
  {
   "cell_type": "code",
   "execution_count": 63,
   "metadata": {},
   "outputs": [
    {
     "name": "stdout",
     "output_type": "stream",
     "text": [
      "~~~ 1\n",
      "cubed : 1\n",
      "squared: 1\n",
      "@@@ 1\n",
      "~~~ 2\n",
      "cubed : 2\n",
      "squared: 2\n",
      "@@@ 2\n",
      "~~~ 3\n",
      "cubed : 3\n",
      "squared: 3\n",
      "@@@ 3\n",
      "~~~ 4\n",
      "cubed : 4\n",
      "squared: 4\n",
      "@@@ 4\n"
     ]
    },
    {
     "ename": "TypeError",
     "evalue": "'NoneType' object is not iterable",
     "output_type": "error",
     "traceback": [
      "\u001b[1;31m---------------------------------------------------------------------------\u001b[0m",
      "\u001b[1;31mTypeError\u001b[0m                                 Traceback (most recent call last)",
      "\u001b[1;32mc:\\Users\\Laptop 18\\Desktop\\Pastinaru Ionela\\bootcamp\\2022\\python_workshop\\notebooks\\10_test.ipynb Cell 5\u001b[0m in \u001b[0;36m<cell line: 15>\u001b[1;34m()\u001b[0m\n\u001b[0;32m     <a href='vscode-notebook-cell:/c%3A/Users/Laptop%2018/Desktop/Pastinaru%20Ionela/bootcamp/2022/python_workshop/notebooks/10_test.ipynb#W4sZmlsZQ%3D%3D?line=11'>12</a>\u001b[0m         \u001b[39mprint\u001b[39m(\u001b[39mf\u001b[39m\u001b[39m\"\u001b[39m\u001b[39m@@@ \u001b[39m\u001b[39m{\u001b[39;00mi\u001b[39m}\u001b[39;00m\u001b[39m\"\u001b[39m)\n\u001b[0;32m     <a href='vscode-notebook-cell:/c%3A/Users/Laptop%2018/Desktop/Pastinaru%20Ionela/bootcamp/2022/python_workshop/notebooks/10_test.ipynb#W4sZmlsZQ%3D%3D?line=13'>14</a>\u001b[0m n \u001b[39m=\u001b[39m \u001b[39m5\u001b[39m\n\u001b[1;32m---> <a href='vscode-notebook-cell:/c%3A/Users/Laptop%2018/Desktop/Pastinaru%20Ionela/bootcamp/2022/python_workshop/notebooks/10_test.ipynb#W4sZmlsZQ%3D%3D?line=14'>15</a>\u001b[0m \u001b[39mfor\u001b[39;00m x \u001b[39min\u001b[39;00m f2(n):\n\u001b[0;32m     <a href='vscode-notebook-cell:/c%3A/Users/Laptop%2018/Desktop/Pastinaru%20Ionela/bootcamp/2022/python_workshop/notebooks/10_test.ipynb#W4sZmlsZQ%3D%3D?line=15'>16</a>\u001b[0m     \u001b[39mprint\u001b[39m(x)\n",
      "\u001b[1;31mTypeError\u001b[0m: 'NoneType' object is not iterable"
     ]
    }
   ],
   "source": [
    "dict = {\n",
    "    \"cubed\": {},\n",
    "    \"squared\" : {},\n",
    "    \"@@@\" : {}\n",
    "}\n",
    "\n",
    "def f2(n):\n",
    "    for i in range(1, n):\n",
    "        print(f\"~~~ {i}\")\n",
    "        print(f\"{'cubed'} : {i}\")\n",
    "        print(f\"{'squared'}: {i}\")\n",
    "        print(f\"@@@ {i}\")\n",
    "\n",
    "n = 5\n",
    "for x in f2(n):\n",
    "    print(x)"
   ]
  },
  {
   "cell_type": "markdown",
   "metadata": {},
   "source": [
    "Expected output:\n",
    "\n",
    "```\n",
    "~~~ 1\n",
    "{'cubed': 1}\n",
    "{'squared': 1}\n",
    "@@@ 1\n",
    "~~~ 2\n",
    "{'cubed': 8}\n",
    "{'squared': 4}\n",
    "@@@ 2\n",
    "~~~ 3\n",
    "{'cubed': 27}\n",
    "{'squared': 9}\n",
    "@@@ 3\n",
    "~~~ 4\n",
    "{'cubed': 64}\n",
    "{'squared': 16}\n",
    "@@@ 4\n",
    "```"
   ]
  },
  {
   "cell_type": "markdown",
   "metadata": {},
   "source": [
    "### 2.\n",
    "\n",
    "Under **resources**, there are two input files, [input_file_1.csv](/2022/python_workshop/notebooks/resources/input_file_1.csv) and [input_file_2.csv](/2022/python_workshop/notebooks/resources/input_file_2.csv).\n",
    "\n",
    "Given the two input files, remove the duplicates.\n",
    "\n",
    "If rows in all files are combined, there must be NO duplicates. Solution should include 2 functions, one for reading data from files and one for writing data to files. A partial solution without functions is accepted.\n",
    "\n",
    "Expected output: two separate output files under results/expected, [output_file_1.csv](/2022/python_workshop/notebooks/results/expected/output_file_1.csv) and [output_file_2.csv](/2022/python_workshop/notebooks/results/expected/output_file_2.csv)."
   ]
  },
  {
   "cell_type": "code",
   "execution_count": null,
   "metadata": {},
   "outputs": [],
   "source": [
    "def read(f1):\n",
    "    f1 = open('input_file_1.csv','r')\n",
    "\n",
    "def write(f2):\n",
    "    f2 = open('input_file_2.csv','w')\n"
   ]
  },
  {
   "cell_type": "markdown",
   "metadata": {},
   "source": [
    "### 3.\n",
    "\n",
    "Using the [data.gov.ro](https://data.gov.ro/dataset/acreditarea-unitatilor-sanitare-2021) API, extract the \"accredited hospitals 2021\" data set (link available below).\n",
    "\n",
    "Alternatively, if the API is down, use the backup file **hospitals.csv** from the **resources** folder as a source."
   ]
  },
  {
   "cell_type": "code",
   "execution_count": 6,
   "metadata": {},
   "outputs": [],
   "source": [
    "import requests\n",
    "import pandas as pd"
   ]
  },
  {
   "cell_type": "code",
   "execution_count": 7,
   "metadata": {},
   "outputs": [
    {
     "data": {
      "text/html": [
       "<div>\n",
       "<style scoped>\n",
       "    .dataframe tbody tr th:only-of-type {\n",
       "        vertical-align: middle;\n",
       "    }\n",
       "\n",
       "    .dataframe tbody tr th {\n",
       "        vertical-align: top;\n",
       "    }\n",
       "\n",
       "    .dataframe thead th {\n",
       "        text-align: right;\n",
       "    }\n",
       "</style>\n",
       "<table border=\"1\" class=\"dataframe\">\n",
       "  <thead>\n",
       "    <tr style=\"text-align: right;\">\n",
       "      <th></th>\n",
       "      <th>Nr. Crt.</th>\n",
       "      <th>Nume</th>\n",
       "      <th>Cod A.N.M.C.S.</th>\n",
       "      <th>Judet</th>\n",
       "      <th>Clasificare</th>\n",
       "      <th>TIP USP (in functie de specificul patologiei tratate)</th>\n",
       "      <th>TIP USP (in functie de regimul proprietatii)</th>\n",
       "      <th>TIP USP (din punct de vedere al invatamantului si al cercetarii stiintifice medicale)</th>\n",
       "      <th>Adresa completa a sediului principal</th>\n",
       "      <th>Adresa email oficiala</th>\n",
       "      <th>Website</th>\n",
       "      <th>Autoritatea tutelara</th>\n",
       "      <th>Acreditare ciclul I</th>\n",
       "      <th>Acreditare ciclul II</th>\n",
       "      <th>Unnamed: 15</th>\n",
       "      <th>__1</th>\n",
       "      <th>__2</th>\n",
       "    </tr>\n",
       "  </thead>\n",
       "  <tbody>\n",
       "    <tr>\n",
       "      <th>0</th>\n",
       "      <td>1.0</td>\n",
       "      <td>SPITALUL MUNICIPAL CALAFAT</td>\n",
       "      <td>A001</td>\n",
       "      <td>Dolj</td>\n",
       "      <td>IV</td>\n",
       "      <td>general</td>\n",
       "      <td>public</td>\n",
       "      <td>fara invatamant</td>\n",
       "      <td>B-dul. T. Vladimirescu, Nr. 24, Calafat, cod 2...</td>\n",
       "      <td>spitalcalafat@gmail.com</td>\n",
       "      <td>spitalcalafat.ro</td>\n",
       "      <td>PRIMARIA MUNICIPIULUI CALAFAT</td>\n",
       "      <td>Acreditat</td>\n",
       "      <td>Categoria V Decizie de prelungire a procesului...</td>\n",
       "      <td>NaN</td>\n",
       "      <td>NaN</td>\n",
       "      <td>NaN</td>\n",
       "    </tr>\n",
       "    <tr>\n",
       "      <th>1</th>\n",
       "      <td>2.0</td>\n",
       "      <td>SPITALUL DE PSIHIATRIE CRONICI SCHITU GRECI</td>\n",
       "      <td>A002</td>\n",
       "      <td>Olt</td>\n",
       "      <td>V</td>\n",
       "      <td>afectiuni cronice</td>\n",
       "      <td>public</td>\n",
       "      <td>fara invatamant</td>\n",
       "      <td>SLATINA STR. A. I. CUZA NR. 14</td>\n",
       "      <td>spitalulschitu@gmail.com</td>\n",
       "      <td>www.spitalul-schitu.ro</td>\n",
       "      <td>CONSILIUL JUDETEAN OLT</td>\n",
       "      <td>Acreditat</td>\n",
       "      <td>Categoria V Decizie de prelungire a procesului...</td>\n",
       "      <td>NaN</td>\n",
       "      <td>NaN</td>\n",
       "      <td>NaN</td>\n",
       "    </tr>\n",
       "    <tr>\n",
       "      <th>2</th>\n",
       "      <td>3.0</td>\n",
       "      <td>SPITALUL CLINIC NICOLAE MALAXA</td>\n",
       "      <td>A003</td>\n",
       "      <td>Bucuresti</td>\n",
       "      <td>III</td>\n",
       "      <td>general</td>\n",
       "      <td>public</td>\n",
       "      <td>clinic cu sectii universitare</td>\n",
       "      <td>STR. DIMITRIE CANTEMIR, NR.1, PARTER, SECT.4, ...</td>\n",
       "      <td>secretariat@spitalmalaxa.ro</td>\n",
       "      <td>www.spitalmalaxa.ro</td>\n",
       "      <td>ASSMB</td>\n",
       "      <td>Acreditat</td>\n",
       "      <td>Categoria IV Acreditat cu incredere redusa</td>\n",
       "      <td>NaN</td>\n",
       "      <td>NaN</td>\n",
       "      <td>NaN</td>\n",
       "    </tr>\n",
       "    <tr>\n",
       "      <th>3</th>\n",
       "      <td>4.0</td>\n",
       "      <td>SPITALUL MILITAR DE URGENTA \"REGINA MARIA\" BRA?OV</td>\n",
       "      <td>A004</td>\n",
       "      <td>Brasov</td>\n",
       "      <td>III</td>\n",
       "      <td>urgenta</td>\n",
       "      <td>public</td>\n",
       "      <td>fara invatamant</td>\n",
       "      <td>Bucuresti, Str. Institutul Medico-Militar, Nr....</td>\n",
       "      <td>smureginamaria@rdsbv.ro</td>\n",
       "      <td>www.smubrasov.ro</td>\n",
       "      <td>DIRECtIA MEDICALa a Ministerului Apararii Nati...</td>\n",
       "      <td>Acreditat</td>\n",
       "      <td>Categoria II Acreditat cu recomandari</td>\n",
       "      <td>NaN</td>\n",
       "      <td>NaN</td>\n",
       "      <td>NaN</td>\n",
       "    </tr>\n",
       "    <tr>\n",
       "      <th>4</th>\n",
       "      <td>5.0</td>\n",
       "      <td>SPITALUL ORASENESC INEU</td>\n",
       "      <td>A005</td>\n",
       "      <td>Arad</td>\n",
       "      <td>IV</td>\n",
       "      <td>general</td>\n",
       "      <td>public</td>\n",
       "      <td>fara invatamant</td>\n",
       "      <td>Calea Republicii, nr. 5</td>\n",
       "      <td>spitalineu@yahoo.ro</td>\n",
       "      <td>http://www.spitalineu.ro</td>\n",
       "      <td>Primaria Orasului Ineu</td>\n",
       "      <td>Acreditat</td>\n",
       "      <td>Categoria V Decizie de prelungire a procesului...</td>\n",
       "      <td>NaN</td>\n",
       "      <td>NaN</td>\n",
       "      <td>NaN</td>\n",
       "    </tr>\n",
       "  </tbody>\n",
       "</table>\n",
       "</div>"
      ],
      "text/plain": [
       "   Nr. Crt.                                               Nume Cod A.N.M.C.S.  \\\n",
       "0       1.0                         SPITALUL MUNICIPAL CALAFAT           A001   \n",
       "1       2.0        SPITALUL DE PSIHIATRIE CRONICI SCHITU GRECI           A002   \n",
       "2       3.0                     SPITALUL CLINIC NICOLAE MALAXA           A003   \n",
       "3       4.0  SPITALUL MILITAR DE URGENTA \"REGINA MARIA\" BRA?OV           A004   \n",
       "4       5.0                            SPITALUL ORASENESC INEU           A005   \n",
       "\n",
       "       Judet Clasificare  \\\n",
       "0       Dolj          IV   \n",
       "1        Olt           V   \n",
       "2  Bucuresti         III   \n",
       "3     Brasov         III   \n",
       "4       Arad          IV   \n",
       "\n",
       "  TIP USP (in functie de specificul patologiei tratate)  \\\n",
       "0                                            general      \n",
       "1                                  afectiuni cronice      \n",
       "2                                            general      \n",
       "3                                            urgenta      \n",
       "4                                            general      \n",
       "\n",
       "  TIP USP (in functie de regimul proprietatii)  \\\n",
       "0                                       public   \n",
       "1                                       public   \n",
       "2                                       public   \n",
       "3                                       public   \n",
       "4                                       public   \n",
       "\n",
       "  TIP USP (din punct de vedere al invatamantului si al cercetarii stiintifice medicale)  \\\n",
       "0                                    fara invatamant                                      \n",
       "1                                    fara invatamant                                      \n",
       "2                      clinic cu sectii universitare                                      \n",
       "3                                    fara invatamant                                      \n",
       "4                                    fara invatamant                                      \n",
       "\n",
       "                Adresa completa a sediului principal  \\\n",
       "0  B-dul. T. Vladimirescu, Nr. 24, Calafat, cod 2...   \n",
       "1                     SLATINA STR. A. I. CUZA NR. 14   \n",
       "2  STR. DIMITRIE CANTEMIR, NR.1, PARTER, SECT.4, ...   \n",
       "3  Bucuresti, Str. Institutul Medico-Militar, Nr....   \n",
       "4                            Calea Republicii, nr. 5   \n",
       "\n",
       "         Adresa email oficiala                   Website  \\\n",
       "0      spitalcalafat@gmail.com          spitalcalafat.ro   \n",
       "1     spitalulschitu@gmail.com    www.spitalul-schitu.ro   \n",
       "2  secretariat@spitalmalaxa.ro       www.spitalmalaxa.ro   \n",
       "3      smureginamaria@rdsbv.ro          www.smubrasov.ro   \n",
       "4          spitalineu@yahoo.ro  http://www.spitalineu.ro   \n",
       "\n",
       "                                Autoritatea tutelara Acreditare ciclul I  \\\n",
       "0                      PRIMARIA MUNICIPIULUI CALAFAT           Acreditat   \n",
       "1                             CONSILIUL JUDETEAN OLT           Acreditat   \n",
       "2                                              ASSMB           Acreditat   \n",
       "3  DIRECtIA MEDICALa a Ministerului Apararii Nati...           Acreditat   \n",
       "4                             Primaria Orasului Ineu           Acreditat   \n",
       "\n",
       "                                Acreditare ciclul II  Unnamed: 15  __1  __2  \n",
       "0  Categoria V Decizie de prelungire a procesului...          NaN  NaN  NaN  \n",
       "1  Categoria V Decizie de prelungire a procesului...          NaN  NaN  NaN  \n",
       "2         Categoria IV Acreditat cu incredere redusa          NaN  NaN  NaN  \n",
       "3              Categoria II Acreditat cu recomandari          NaN  NaN  NaN  \n",
       "4  Categoria V Decizie de prelungire a procesului...          NaN  NaN  NaN  "
      ]
     },
     "execution_count": 7,
     "metadata": {},
     "output_type": "execute_result"
    }
   ],
   "source": [
    "url_hospitals = 'https://data.gov.ro/dataset/4197b53e-7c91-4fcc-be07-883076d40ffc/resource/7a343719-d625-4b5c-98b5-895a684d61c4/download/anmcs-acreditare-unitati-sanitare-dec2021.json'\n",
    "\n",
    "\n",
    "hospitals = pd.read_csv('./resources/hospital.csv', index_col=0)\n",
    "\n",
    "hospitals.head()"
   ]
  },
  {
   "cell_type": "markdown",
   "metadata": {},
   "source": [
    "How many rows are in this dataset?"
   ]
  },
  {
   "cell_type": "code",
   "execution_count": 8,
   "metadata": {},
   "outputs": [
    {
     "data": {
      "text/plain": [
       "(1365, 17)"
      ]
     },
     "execution_count": 8,
     "metadata": {},
     "output_type": "execute_result"
    }
   ],
   "source": [
    "hospitals.shape\n",
    "\n",
    "#1365 rows, 17 columns"
   ]
  },
  {
   "cell_type": "markdown",
   "metadata": {},
   "source": [
    "What are the columns in this dataset?"
   ]
  },
  {
   "cell_type": "code",
   "execution_count": 9,
   "metadata": {},
   "outputs": [
    {
     "data": {
      "text/plain": [
       "Index(['Nr. Crt.', 'Nume', 'Cod A.N.M.C.S.', 'Judet', 'Clasificare',\n",
       "       'TIP USP (in functie de specificul patologiei tratate)',\n",
       "       'TIP USP (in functie de regimul proprietatii)',\n",
       "       'TIP USP (din punct de vedere al invatamantului si al cercetarii stiintifice medicale)',\n",
       "       'Adresa completa a sediului principal', 'Adresa email oficiala',\n",
       "       'Website', 'Autoritatea tutelara', 'Acreditare ciclul I',\n",
       "       'Acreditare ciclul II', 'Unnamed: 15', '__1', '__2'],\n",
       "      dtype='object')"
      ]
     },
     "execution_count": 9,
     "metadata": {},
     "output_type": "execute_result"
    }
   ],
   "source": [
    "hospitals.columns"
   ]
  },
  {
   "cell_type": "markdown",
   "metadata": {},
   "source": [
    "Drop the unnecessary columns:\n",
    "* Nr. Crt.\n",
    "* TIP USP (din punct de vedere al invatamantului si al cercetarii stiintifice medicale)\n",
    "* the last three columns"
   ]
  },
  {
   "cell_type": "code",
   "execution_count": 10,
   "metadata": {},
   "outputs": [
    {
     "data": {
      "text/html": [
       "<div>\n",
       "<style scoped>\n",
       "    .dataframe tbody tr th:only-of-type {\n",
       "        vertical-align: middle;\n",
       "    }\n",
       "\n",
       "    .dataframe tbody tr th {\n",
       "        vertical-align: top;\n",
       "    }\n",
       "\n",
       "    .dataframe thead th {\n",
       "        text-align: right;\n",
       "    }\n",
       "</style>\n",
       "<table border=\"1\" class=\"dataframe\">\n",
       "  <thead>\n",
       "    <tr style=\"text-align: right;\">\n",
       "      <th></th>\n",
       "      <th>Nume</th>\n",
       "      <th>Cod A.N.M.C.S.</th>\n",
       "      <th>Judet</th>\n",
       "      <th>Clasificare</th>\n",
       "      <th>TIP USP (in functie de specificul patologiei tratate)</th>\n",
       "      <th>TIP USP (in functie de regimul proprietatii)</th>\n",
       "      <th>Adresa completa a sediului principal</th>\n",
       "      <th>Adresa email oficiala</th>\n",
       "      <th>Website</th>\n",
       "      <th>Autoritatea tutelara</th>\n",
       "      <th>Acreditare ciclul I</th>\n",
       "      <th>Acreditare ciclul II</th>\n",
       "    </tr>\n",
       "  </thead>\n",
       "  <tbody>\n",
       "    <tr>\n",
       "      <th>0</th>\n",
       "      <td>SPITALUL MUNICIPAL CALAFAT</td>\n",
       "      <td>A001</td>\n",
       "      <td>Dolj</td>\n",
       "      <td>IV</td>\n",
       "      <td>general</td>\n",
       "      <td>public</td>\n",
       "      <td>B-dul. T. Vladimirescu, Nr. 24, Calafat, cod 2...</td>\n",
       "      <td>spitalcalafat@gmail.com</td>\n",
       "      <td>spitalcalafat.ro</td>\n",
       "      <td>PRIMARIA MUNICIPIULUI CALAFAT</td>\n",
       "      <td>Acreditat</td>\n",
       "      <td>Categoria V Decizie de prelungire a procesului...</td>\n",
       "    </tr>\n",
       "    <tr>\n",
       "      <th>1</th>\n",
       "      <td>SPITALUL DE PSIHIATRIE CRONICI SCHITU GRECI</td>\n",
       "      <td>A002</td>\n",
       "      <td>Olt</td>\n",
       "      <td>V</td>\n",
       "      <td>afectiuni cronice</td>\n",
       "      <td>public</td>\n",
       "      <td>SLATINA STR. A. I. CUZA NR. 14</td>\n",
       "      <td>spitalulschitu@gmail.com</td>\n",
       "      <td>www.spitalul-schitu.ro</td>\n",
       "      <td>CONSILIUL JUDETEAN OLT</td>\n",
       "      <td>Acreditat</td>\n",
       "      <td>Categoria V Decizie de prelungire a procesului...</td>\n",
       "    </tr>\n",
       "    <tr>\n",
       "      <th>2</th>\n",
       "      <td>SPITALUL CLINIC NICOLAE MALAXA</td>\n",
       "      <td>A003</td>\n",
       "      <td>Bucuresti</td>\n",
       "      <td>III</td>\n",
       "      <td>general</td>\n",
       "      <td>public</td>\n",
       "      <td>STR. DIMITRIE CANTEMIR, NR.1, PARTER, SECT.4, ...</td>\n",
       "      <td>secretariat@spitalmalaxa.ro</td>\n",
       "      <td>www.spitalmalaxa.ro</td>\n",
       "      <td>ASSMB</td>\n",
       "      <td>Acreditat</td>\n",
       "      <td>Categoria IV Acreditat cu incredere redusa</td>\n",
       "    </tr>\n",
       "    <tr>\n",
       "      <th>3</th>\n",
       "      <td>SPITALUL MILITAR DE URGENTA \"REGINA MARIA\" BRA?OV</td>\n",
       "      <td>A004</td>\n",
       "      <td>Brasov</td>\n",
       "      <td>III</td>\n",
       "      <td>urgenta</td>\n",
       "      <td>public</td>\n",
       "      <td>Bucuresti, Str. Institutul Medico-Militar, Nr....</td>\n",
       "      <td>smureginamaria@rdsbv.ro</td>\n",
       "      <td>www.smubrasov.ro</td>\n",
       "      <td>DIRECtIA MEDICALa a Ministerului Apararii Nati...</td>\n",
       "      <td>Acreditat</td>\n",
       "      <td>Categoria II Acreditat cu recomandari</td>\n",
       "    </tr>\n",
       "    <tr>\n",
       "      <th>4</th>\n",
       "      <td>SPITALUL ORASENESC INEU</td>\n",
       "      <td>A005</td>\n",
       "      <td>Arad</td>\n",
       "      <td>IV</td>\n",
       "      <td>general</td>\n",
       "      <td>public</td>\n",
       "      <td>Calea Republicii, nr. 5</td>\n",
       "      <td>spitalineu@yahoo.ro</td>\n",
       "      <td>http://www.spitalineu.ro</td>\n",
       "      <td>Primaria Orasului Ineu</td>\n",
       "      <td>Acreditat</td>\n",
       "      <td>Categoria V Decizie de prelungire a procesului...</td>\n",
       "    </tr>\n",
       "    <tr>\n",
       "      <th>...</th>\n",
       "      <td>...</td>\n",
       "      <td>...</td>\n",
       "      <td>...</td>\n",
       "      <td>...</td>\n",
       "      <td>...</td>\n",
       "      <td>...</td>\n",
       "      <td>...</td>\n",
       "      <td>...</td>\n",
       "      <td>...</td>\n",
       "      <td>...</td>\n",
       "      <td>...</td>\n",
       "      <td>...</td>\n",
       "    </tr>\n",
       "    <tr>\n",
       "      <th>1360</th>\n",
       "      <td>NaN</td>\n",
       "      <td>NaN</td>\n",
       "      <td>NaN</td>\n",
       "      <td>NaN</td>\n",
       "      <td>NaN</td>\n",
       "      <td>NaN</td>\n",
       "      <td>NaN</td>\n",
       "      <td>NaN</td>\n",
       "      <td>NaN</td>\n",
       "      <td>NaN</td>\n",
       "      <td>NaN</td>\n",
       "      <td>NaN</td>\n",
       "    </tr>\n",
       "    <tr>\n",
       "      <th>1361</th>\n",
       "      <td>NaN</td>\n",
       "      <td>NaN</td>\n",
       "      <td>NaN</td>\n",
       "      <td>NaN</td>\n",
       "      <td>NaN</td>\n",
       "      <td>NaN</td>\n",
       "      <td>NaN</td>\n",
       "      <td>NaN</td>\n",
       "      <td>NaN</td>\n",
       "      <td>NaN</td>\n",
       "      <td>NaN</td>\n",
       "      <td>NaN</td>\n",
       "    </tr>\n",
       "    <tr>\n",
       "      <th>1362</th>\n",
       "      <td>NaN</td>\n",
       "      <td>NaN</td>\n",
       "      <td>NaN</td>\n",
       "      <td>NaN</td>\n",
       "      <td>NaN</td>\n",
       "      <td>NaN</td>\n",
       "      <td>NaN</td>\n",
       "      <td>NaN</td>\n",
       "      <td>NaN</td>\n",
       "      <td>NaN</td>\n",
       "      <td>NaN</td>\n",
       "      <td>NaN</td>\n",
       "    </tr>\n",
       "    <tr>\n",
       "      <th>1363</th>\n",
       "      <td>NaN</td>\n",
       "      <td>NaN</td>\n",
       "      <td>NaN</td>\n",
       "      <td>NaN</td>\n",
       "      <td>NaN</td>\n",
       "      <td>NaN</td>\n",
       "      <td>NaN</td>\n",
       "      <td>NaN</td>\n",
       "      <td>NaN</td>\n",
       "      <td>NaN</td>\n",
       "      <td>NaN</td>\n",
       "      <td>NaN</td>\n",
       "    </tr>\n",
       "    <tr>\n",
       "      <th>1364</th>\n",
       "      <td>NaN</td>\n",
       "      <td>NaN</td>\n",
       "      <td>NaN</td>\n",
       "      <td>NaN</td>\n",
       "      <td>NaN</td>\n",
       "      <td>NaN</td>\n",
       "      <td>NaN</td>\n",
       "      <td>NaN</td>\n",
       "      <td>NaN</td>\n",
       "      <td>NaN</td>\n",
       "      <td>NaN</td>\n",
       "      <td>NaN</td>\n",
       "    </tr>\n",
       "  </tbody>\n",
       "</table>\n",
       "<p>1365 rows × 12 columns</p>\n",
       "</div>"
      ],
      "text/plain": [
       "                                                   Nume Cod A.N.M.C.S.  \\\n",
       "0                            SPITALUL MUNICIPAL CALAFAT           A001   \n",
       "1           SPITALUL DE PSIHIATRIE CRONICI SCHITU GRECI           A002   \n",
       "2                        SPITALUL CLINIC NICOLAE MALAXA           A003   \n",
       "3     SPITALUL MILITAR DE URGENTA \"REGINA MARIA\" BRA?OV           A004   \n",
       "4                               SPITALUL ORASENESC INEU           A005   \n",
       "...                                                 ...            ...   \n",
       "1360                                                NaN            NaN   \n",
       "1361                                                NaN            NaN   \n",
       "1362                                                NaN            NaN   \n",
       "1363                                                NaN            NaN   \n",
       "1364                                                NaN            NaN   \n",
       "\n",
       "          Judet Clasificare  \\\n",
       "0          Dolj          IV   \n",
       "1           Olt           V   \n",
       "2     Bucuresti         III   \n",
       "3        Brasov         III   \n",
       "4          Arad          IV   \n",
       "...         ...         ...   \n",
       "1360        NaN         NaN   \n",
       "1361        NaN         NaN   \n",
       "1362        NaN         NaN   \n",
       "1363        NaN         NaN   \n",
       "1364        NaN         NaN   \n",
       "\n",
       "     TIP USP (in functie de specificul patologiei tratate)  \\\n",
       "0                                               general      \n",
       "1                                     afectiuni cronice      \n",
       "2                                               general      \n",
       "3                                               urgenta      \n",
       "4                                               general      \n",
       "...                                                 ...      \n",
       "1360                                                NaN      \n",
       "1361                                                NaN      \n",
       "1362                                                NaN      \n",
       "1363                                                NaN      \n",
       "1364                                                NaN      \n",
       "\n",
       "     TIP USP (in functie de regimul proprietatii)  \\\n",
       "0                                          public   \n",
       "1                                          public   \n",
       "2                                          public   \n",
       "3                                          public   \n",
       "4                                          public   \n",
       "...                                           ...   \n",
       "1360                                          NaN   \n",
       "1361                                          NaN   \n",
       "1362                                          NaN   \n",
       "1363                                          NaN   \n",
       "1364                                          NaN   \n",
       "\n",
       "                   Adresa completa a sediului principal  \\\n",
       "0     B-dul. T. Vladimirescu, Nr. 24, Calafat, cod 2...   \n",
       "1                        SLATINA STR. A. I. CUZA NR. 14   \n",
       "2     STR. DIMITRIE CANTEMIR, NR.1, PARTER, SECT.4, ...   \n",
       "3     Bucuresti, Str. Institutul Medico-Militar, Nr....   \n",
       "4                               Calea Republicii, nr. 5   \n",
       "...                                                 ...   \n",
       "1360                                                NaN   \n",
       "1361                                                NaN   \n",
       "1362                                                NaN   \n",
       "1363                                                NaN   \n",
       "1364                                                NaN   \n",
       "\n",
       "            Adresa email oficiala                   Website  \\\n",
       "0         spitalcalafat@gmail.com          spitalcalafat.ro   \n",
       "1        spitalulschitu@gmail.com    www.spitalul-schitu.ro   \n",
       "2     secretariat@spitalmalaxa.ro       www.spitalmalaxa.ro   \n",
       "3         smureginamaria@rdsbv.ro          www.smubrasov.ro   \n",
       "4             spitalineu@yahoo.ro  http://www.spitalineu.ro   \n",
       "...                           ...                       ...   \n",
       "1360                          NaN                       NaN   \n",
       "1361                          NaN                       NaN   \n",
       "1362                          NaN                       NaN   \n",
       "1363                          NaN                       NaN   \n",
       "1364                          NaN                       NaN   \n",
       "\n",
       "                                   Autoritatea tutelara Acreditare ciclul I  \\\n",
       "0                         PRIMARIA MUNICIPIULUI CALAFAT           Acreditat   \n",
       "1                                CONSILIUL JUDETEAN OLT           Acreditat   \n",
       "2                                                 ASSMB           Acreditat   \n",
       "3     DIRECtIA MEDICALa a Ministerului Apararii Nati...           Acreditat   \n",
       "4                                Primaria Orasului Ineu           Acreditat   \n",
       "...                                                 ...                 ...   \n",
       "1360                                                NaN                 NaN   \n",
       "1361                                                NaN                 NaN   \n",
       "1362                                                NaN                 NaN   \n",
       "1363                                                NaN                 NaN   \n",
       "1364                                                NaN                 NaN   \n",
       "\n",
       "                                   Acreditare ciclul II  \n",
       "0     Categoria V Decizie de prelungire a procesului...  \n",
       "1     Categoria V Decizie de prelungire a procesului...  \n",
       "2            Categoria IV Acreditat cu incredere redusa  \n",
       "3                 Categoria II Acreditat cu recomandari  \n",
       "4     Categoria V Decizie de prelungire a procesului...  \n",
       "...                                                 ...  \n",
       "1360                                                NaN  \n",
       "1361                                                NaN  \n",
       "1362                                                NaN  \n",
       "1363                                                NaN  \n",
       "1364                                                NaN  \n",
       "\n",
       "[1365 rows x 12 columns]"
      ]
     },
     "execution_count": 10,
     "metadata": {},
     "output_type": "execute_result"
    }
   ],
   "source": [
    "hospitals.drop(['Nr. Crt.','TIP USP (din punct de vedere al invatamantului si al cercetarii stiintifice medicale)', 'Unnamed: 15', '__1', '__2'],axis=1)\n"
   ]
  },
  {
   "cell_type": "markdown",
   "metadata": {},
   "source": [
    "Apply the following transformations to the columns, so that they are easier to work with:\n",
    "* lowercase all columns\n",
    "* `TIP USP (in functie de specificul patologiei tratate)` rename to `tip_patologie`\n",
    "* `TIP USP (in functie de regimul proprietatii)` rename to `tip`\n",
    "* `Adresa completa a sediului principal` rename to `adresa`\n",
    "* `Adresa email oficiala` rename to `email`\n",
    "* `Autoritatea tutelara` rename to `autoritate_tutelara`\n",
    "* `Acreditare ciclul I` rename to `acreditare_i`\n",
    "* `Acreditare ciclul II` rename to `acreditare_ii`"
   ]
  },
  {
   "cell_type": "code",
   "execution_count": 11,
   "metadata": {},
   "outputs": [
    {
     "data": {
      "text/html": [
       "<div>\n",
       "<style scoped>\n",
       "    .dataframe tbody tr th:only-of-type {\n",
       "        vertical-align: middle;\n",
       "    }\n",
       "\n",
       "    .dataframe tbody tr th {\n",
       "        vertical-align: top;\n",
       "    }\n",
       "\n",
       "    .dataframe thead th {\n",
       "        text-align: right;\n",
       "    }\n",
       "</style>\n",
       "<table border=\"1\" class=\"dataframe\">\n",
       "  <thead>\n",
       "    <tr style=\"text-align: right;\">\n",
       "      <th></th>\n",
       "      <th>nr. crt.</th>\n",
       "      <th>nume</th>\n",
       "      <th>cod a.n.m.c.s.</th>\n",
       "      <th>judet</th>\n",
       "      <th>clasificare</th>\n",
       "      <th>tip usp (in functie de specificul patologiei tratate)</th>\n",
       "      <th>tip usp (in functie de regimul proprietatii)</th>\n",
       "      <th>tip usp (din punct de vedere al invatamantului si al cercetarii stiintifice medicale)</th>\n",
       "      <th>adresa completa a sediului principal</th>\n",
       "      <th>adresa email oficiala</th>\n",
       "      <th>website</th>\n",
       "      <th>autoritatea tutelara</th>\n",
       "      <th>acreditare ciclul i</th>\n",
       "      <th>acreditare ciclul ii</th>\n",
       "      <th>unnamed: 15</th>\n",
       "      <th>__1</th>\n",
       "      <th>__2</th>\n",
       "    </tr>\n",
       "  </thead>\n",
       "  <tbody>\n",
       "    <tr>\n",
       "      <th>0</th>\n",
       "      <td>1.0</td>\n",
       "      <td>SPITALUL MUNICIPAL CALAFAT</td>\n",
       "      <td>A001</td>\n",
       "      <td>Dolj</td>\n",
       "      <td>IV</td>\n",
       "      <td>general</td>\n",
       "      <td>public</td>\n",
       "      <td>fara invatamant</td>\n",
       "      <td>B-dul. T. Vladimirescu, Nr. 24, Calafat, cod 2...</td>\n",
       "      <td>spitalcalafat@gmail.com</td>\n",
       "      <td>spitalcalafat.ro</td>\n",
       "      <td>PRIMARIA MUNICIPIULUI CALAFAT</td>\n",
       "      <td>Acreditat</td>\n",
       "      <td>Categoria V Decizie de prelungire a procesului...</td>\n",
       "      <td>NaN</td>\n",
       "      <td>NaN</td>\n",
       "      <td>NaN</td>\n",
       "    </tr>\n",
       "    <tr>\n",
       "      <th>1</th>\n",
       "      <td>2.0</td>\n",
       "      <td>SPITALUL DE PSIHIATRIE CRONICI SCHITU GRECI</td>\n",
       "      <td>A002</td>\n",
       "      <td>Olt</td>\n",
       "      <td>V</td>\n",
       "      <td>afectiuni cronice</td>\n",
       "      <td>public</td>\n",
       "      <td>fara invatamant</td>\n",
       "      <td>SLATINA STR. A. I. CUZA NR. 14</td>\n",
       "      <td>spitalulschitu@gmail.com</td>\n",
       "      <td>www.spitalul-schitu.ro</td>\n",
       "      <td>CONSILIUL JUDETEAN OLT</td>\n",
       "      <td>Acreditat</td>\n",
       "      <td>Categoria V Decizie de prelungire a procesului...</td>\n",
       "      <td>NaN</td>\n",
       "      <td>NaN</td>\n",
       "      <td>NaN</td>\n",
       "    </tr>\n",
       "    <tr>\n",
       "      <th>2</th>\n",
       "      <td>3.0</td>\n",
       "      <td>SPITALUL CLINIC NICOLAE MALAXA</td>\n",
       "      <td>A003</td>\n",
       "      <td>Bucuresti</td>\n",
       "      <td>III</td>\n",
       "      <td>general</td>\n",
       "      <td>public</td>\n",
       "      <td>clinic cu sectii universitare</td>\n",
       "      <td>STR. DIMITRIE CANTEMIR, NR.1, PARTER, SECT.4, ...</td>\n",
       "      <td>secretariat@spitalmalaxa.ro</td>\n",
       "      <td>www.spitalmalaxa.ro</td>\n",
       "      <td>ASSMB</td>\n",
       "      <td>Acreditat</td>\n",
       "      <td>Categoria IV Acreditat cu incredere redusa</td>\n",
       "      <td>NaN</td>\n",
       "      <td>NaN</td>\n",
       "      <td>NaN</td>\n",
       "    </tr>\n",
       "    <tr>\n",
       "      <th>3</th>\n",
       "      <td>4.0</td>\n",
       "      <td>SPITALUL MILITAR DE URGENTA \"REGINA MARIA\" BRA?OV</td>\n",
       "      <td>A004</td>\n",
       "      <td>Brasov</td>\n",
       "      <td>III</td>\n",
       "      <td>urgenta</td>\n",
       "      <td>public</td>\n",
       "      <td>fara invatamant</td>\n",
       "      <td>Bucuresti, Str. Institutul Medico-Militar, Nr....</td>\n",
       "      <td>smureginamaria@rdsbv.ro</td>\n",
       "      <td>www.smubrasov.ro</td>\n",
       "      <td>DIRECtIA MEDICALa a Ministerului Apararii Nati...</td>\n",
       "      <td>Acreditat</td>\n",
       "      <td>Categoria II Acreditat cu recomandari</td>\n",
       "      <td>NaN</td>\n",
       "      <td>NaN</td>\n",
       "      <td>NaN</td>\n",
       "    </tr>\n",
       "    <tr>\n",
       "      <th>4</th>\n",
       "      <td>5.0</td>\n",
       "      <td>SPITALUL ORASENESC INEU</td>\n",
       "      <td>A005</td>\n",
       "      <td>Arad</td>\n",
       "      <td>IV</td>\n",
       "      <td>general</td>\n",
       "      <td>public</td>\n",
       "      <td>fara invatamant</td>\n",
       "      <td>Calea Republicii, nr. 5</td>\n",
       "      <td>spitalineu@yahoo.ro</td>\n",
       "      <td>http://www.spitalineu.ro</td>\n",
       "      <td>Primaria Orasului Ineu</td>\n",
       "      <td>Acreditat</td>\n",
       "      <td>Categoria V Decizie de prelungire a procesului...</td>\n",
       "      <td>NaN</td>\n",
       "      <td>NaN</td>\n",
       "      <td>NaN</td>\n",
       "    </tr>\n",
       "  </tbody>\n",
       "</table>\n",
       "</div>"
      ],
      "text/plain": [
       "   nr. crt.                                               nume cod a.n.m.c.s.  \\\n",
       "0       1.0                         SPITALUL MUNICIPAL CALAFAT           A001   \n",
       "1       2.0        SPITALUL DE PSIHIATRIE CRONICI SCHITU GRECI           A002   \n",
       "2       3.0                     SPITALUL CLINIC NICOLAE MALAXA           A003   \n",
       "3       4.0  SPITALUL MILITAR DE URGENTA \"REGINA MARIA\" BRA?OV           A004   \n",
       "4       5.0                            SPITALUL ORASENESC INEU           A005   \n",
       "\n",
       "       judet clasificare  \\\n",
       "0       Dolj          IV   \n",
       "1        Olt           V   \n",
       "2  Bucuresti         III   \n",
       "3     Brasov         III   \n",
       "4       Arad          IV   \n",
       "\n",
       "  tip usp (in functie de specificul patologiei tratate)  \\\n",
       "0                                            general      \n",
       "1                                  afectiuni cronice      \n",
       "2                                            general      \n",
       "3                                            urgenta      \n",
       "4                                            general      \n",
       "\n",
       "  tip usp (in functie de regimul proprietatii)  \\\n",
       "0                                       public   \n",
       "1                                       public   \n",
       "2                                       public   \n",
       "3                                       public   \n",
       "4                                       public   \n",
       "\n",
       "  tip usp (din punct de vedere al invatamantului si al cercetarii stiintifice medicale)  \\\n",
       "0                                    fara invatamant                                      \n",
       "1                                    fara invatamant                                      \n",
       "2                      clinic cu sectii universitare                                      \n",
       "3                                    fara invatamant                                      \n",
       "4                                    fara invatamant                                      \n",
       "\n",
       "                adresa completa a sediului principal  \\\n",
       "0  B-dul. T. Vladimirescu, Nr. 24, Calafat, cod 2...   \n",
       "1                     SLATINA STR. A. I. CUZA NR. 14   \n",
       "2  STR. DIMITRIE CANTEMIR, NR.1, PARTER, SECT.4, ...   \n",
       "3  Bucuresti, Str. Institutul Medico-Militar, Nr....   \n",
       "4                            Calea Republicii, nr. 5   \n",
       "\n",
       "         adresa email oficiala                   website  \\\n",
       "0      spitalcalafat@gmail.com          spitalcalafat.ro   \n",
       "1     spitalulschitu@gmail.com    www.spitalul-schitu.ro   \n",
       "2  secretariat@spitalmalaxa.ro       www.spitalmalaxa.ro   \n",
       "3      smureginamaria@rdsbv.ro          www.smubrasov.ro   \n",
       "4          spitalineu@yahoo.ro  http://www.spitalineu.ro   \n",
       "\n",
       "                                autoritatea tutelara acreditare ciclul i  \\\n",
       "0                      PRIMARIA MUNICIPIULUI CALAFAT           Acreditat   \n",
       "1                             CONSILIUL JUDETEAN OLT           Acreditat   \n",
       "2                                              ASSMB           Acreditat   \n",
       "3  DIRECtIA MEDICALa a Ministerului Apararii Nati...           Acreditat   \n",
       "4                             Primaria Orasului Ineu           Acreditat   \n",
       "\n",
       "                                acreditare ciclul ii  unnamed: 15  __1  __2  \n",
       "0  Categoria V Decizie de prelungire a procesului...          NaN  NaN  NaN  \n",
       "1  Categoria V Decizie de prelungire a procesului...          NaN  NaN  NaN  \n",
       "2         Categoria IV Acreditat cu incredere redusa          NaN  NaN  NaN  \n",
       "3              Categoria II Acreditat cu recomandari          NaN  NaN  NaN  \n",
       "4  Categoria V Decizie de prelungire a procesului...          NaN  NaN  NaN  "
      ]
     },
     "execution_count": 11,
     "metadata": {},
     "output_type": "execute_result"
    }
   ],
   "source": [
    "hospitals = hospitals.rename(columns=lambda x: x.lower())\n",
    "hospitals.head()\n"
   ]
  },
  {
   "cell_type": "markdown",
   "metadata": {},
   "source": [
    "The total number of hospitals in this dataset is 762, however the actual number of rows is greater than that.\n",
    "\n",
    "Identify and remove the empty (blank space) rows."
   ]
  },
  {
   "cell_type": "code",
   "execution_count": 28,
   "metadata": {},
   "outputs": [
    {
     "data": {
      "text/plain": [
       "Index(['nr. crt.', 'nume', 'cod a.n.m.c.s.', 'judet', 'clasificare',\n",
       "       'tip_patologie', 'tip',\n",
       "       'tip usp (din punct de vedere al invatamantului si al cercetarii stiintifice medicale)',\n",
       "       'adresa', 'email', 'website', 'autoritate_tutelara', 'acreditare_i',\n",
       "       'acreditare_ii', 'unnamed: 15', '__1', '__2'],\n",
       "      dtype='object')"
      ]
     },
     "execution_count": 28,
     "metadata": {},
     "output_type": "execute_result"
    }
   ],
   "source": [
    "hospitals.rename(\n",
    "    columns ={\n",
    "        'tip usp (in functie de specificul patologiei tratate)': 'tip_patologie',\n",
    "        'tip usp (in functie de regimul proprietatii)': 'tip',\n",
    "        'adresa completa a sediului principal': 'adresa',\n",
    "        'adresa email oficiala': 'email',\n",
    "        'autoritatea tutelara': 'autoritate_tutelara',\n",
    "        'acreditare ciclul i': 'acreditare_i',\n",
    "        'acreditare ciclul ii': 'acreditare_ii'\n",
    "    },\n",
    "    inplace=True # careful with this!\n",
    ")\n",
    "hospitals.columns"
   ]
  },
  {
   "cell_type": "code",
   "execution_count": 13,
   "metadata": {},
   "outputs": [
    {
     "data": {
      "text/plain": [
       "<bound method NDFrame.tail of Empty DataFrame\n",
       "Columns: [nr. crt., nume, cod a.n.m.c.s., judet, clasificare, tip usp (in functie de specificul patologiei tratate), tip usp (in functie de regimul proprietatii), tip usp (din punct de vedere al invatamantului si al cercetarii stiintifice medicale), adresa completa a sediului principal, adresa email oficiala, website, autoritatea tutelara, acreditare ciclul i, acreditare ciclul ii, unnamed: 15, __1, __2]\n",
       "Index: []>"
      ]
     },
     "execution_count": 13,
     "metadata": {},
     "output_type": "execute_result"
    }
   ],
   "source": [
    "hospitals2 = hospitals.copy()                        \n",
    "hospitals2.dropna(inplace = True)   \n",
    "\n",
    "hospitals2.tail"
   ]
  },
  {
   "cell_type": "markdown",
   "metadata": {},
   "source": [
    "How many public hospitals and how many private hospitals are in this dataset?"
   ]
  },
  {
   "cell_type": "code",
   "execution_count": 30,
   "metadata": {},
   "outputs": [
    {
     "data": {
      "text/plain": [
       "0"
      ]
     },
     "execution_count": 30,
     "metadata": {},
     "output_type": "execute_result"
    }
   ],
   "source": [
    "hospitals[hospitals['tip'] == 'public'].value_counts().sum()\n",
    "hospitals[hospitals['tip'] == 'private'].value_counts().sum()"
   ]
  },
  {
   "cell_type": "markdown",
   "metadata": {},
   "source": [
    "Inspect the values in the `acreditare_i` column + print them."
   ]
  },
  {
   "cell_type": "code",
   "execution_count": 32,
   "metadata": {},
   "outputs": [
    {
     "name": "stdout",
     "output_type": "stream",
     "text": [
      "<class 'pandas.core.frame.DataFrame'>\n",
      "Int64Index: 1365 entries, 0 to 1364\n",
      "Data columns (total 1 columns):\n",
      " #   Column        Non-Null Count  Dtype \n",
      "---  ------        --------------  ----- \n",
      " 0   acreditare_i  762 non-null    object\n",
      "dtypes: object(1)\n",
      "memory usage: 21.3+ KB\n"
     ]
    },
    {
     "data": {
      "text/html": [
       "<div>\n",
       "<style scoped>\n",
       "    .dataframe tbody tr th:only-of-type {\n",
       "        vertical-align: middle;\n",
       "    }\n",
       "\n",
       "    .dataframe tbody tr th {\n",
       "        vertical-align: top;\n",
       "    }\n",
       "\n",
       "    .dataframe thead th {\n",
       "        text-align: right;\n",
       "    }\n",
       "</style>\n",
       "<table border=\"1\" class=\"dataframe\">\n",
       "  <thead>\n",
       "    <tr style=\"text-align: right;\">\n",
       "      <th></th>\n",
       "      <th>acreditare_i</th>\n",
       "    </tr>\n",
       "  </thead>\n",
       "  <tbody>\n",
       "    <tr>\n",
       "      <th>0</th>\n",
       "      <td>Acreditat</td>\n",
       "    </tr>\n",
       "    <tr>\n",
       "      <th>1</th>\n",
       "      <td>Acreditat</td>\n",
       "    </tr>\n",
       "    <tr>\n",
       "      <th>2</th>\n",
       "      <td>Acreditat</td>\n",
       "    </tr>\n",
       "    <tr>\n",
       "      <th>3</th>\n",
       "      <td>Acreditat</td>\n",
       "    </tr>\n",
       "    <tr>\n",
       "      <th>4</th>\n",
       "      <td>Acreditat</td>\n",
       "    </tr>\n",
       "  </tbody>\n",
       "</table>\n",
       "</div>"
      ],
      "text/plain": [
       "  acreditare_i\n",
       "0    Acreditat\n",
       "1    Acreditat\n",
       "2    Acreditat\n",
       "3    Acreditat\n",
       "4    Acreditat"
      ]
     },
     "execution_count": 32,
     "metadata": {},
     "output_type": "execute_result"
    }
   ],
   "source": [
    "hospitals[['acreditare_i']].info()\n",
    "hospitals[['acreditare_i']].head()"
   ]
  },
  {
   "cell_type": "markdown",
   "metadata": {},
   "source": [
    "Create a dataframe containing the hospitals that are *not* accredited."
   ]
  },
  {
   "cell_type": "code",
   "execution_count": 52,
   "metadata": {},
   "outputs": [
    {
     "name": "stdout",
     "output_type": "stream",
     "text": [
      "                          nume acreditare_i\n",
      "188   SOCIETATEA DR IRIMIA SRL  Neacreditat\n",
      "214  SPITALUL ORASENESC FAUREI  Neacreditat\n"
     ]
    }
   ],
   "source": [
    "from pandas import DataFrame\n",
    "\n",
    "df = DataFrame(hospitals)\n",
    "not_accredited = hospitals.query(\"acreditare_i=='Neacreditat'\")[['nume', 'acreditare_i']]\n",
    "print(not_accredited)"
   ]
  },
  {
   "cell_type": "markdown",
   "metadata": {},
   "source": [
    "How many hospitals are *not* accredited?"
   ]
  },
  {
   "cell_type": "code",
   "execution_count": 69,
   "metadata": {},
   "outputs": [
    {
     "data": {
      "text/plain": [
       "2"
      ]
     },
     "execution_count": 69,
     "metadata": {},
     "output_type": "execute_result"
    }
   ],
   "source": [
    "sum(hospitals.acreditare_i[(hospitals['acreditare_i'] == 'Neacreditat')].value_counts())\n",
    "#sum(hospitals.acreditare_i[(hospitals['acreditare_i'] == 'Acreditat')].value_counts())"
   ]
  },
  {
   "cell_type": "markdown",
   "metadata": {},
   "source": [
    "Pick a county (judet) for a more in-depth analysis.\n",
    "(Bucuresti is also a county)"
   ]
  },
  {
   "cell_type": "code",
   "execution_count": 61,
   "metadata": {},
   "outputs": [],
   "source": [
    "judet = 'Brasov'"
   ]
  },
  {
   "cell_type": "markdown",
   "metadata": {},
   "source": [
    "According to this dataset, how many hospitals are in this county?"
   ]
  },
  {
   "cell_type": "code",
   "execution_count": 62,
   "metadata": {},
   "outputs": [
    {
     "data": {
      "text/plain": [
       "30"
      ]
     },
     "execution_count": 62,
     "metadata": {},
     "output_type": "execute_result"
    }
   ],
   "source": [
    "sum(hospitals.nume[(hospitals['judet'] == 'Brasov')].value_counts())"
   ]
  },
  {
   "cell_type": "markdown",
   "metadata": {},
   "source": [
    "For the chosen county, create a Dataframe that contains the following information:\n",
    "* judet\n",
    "* tip (public, privat)\n",
    "* count of unaccredited hospitals\n",
    "* count of accredited hospitals"
   ]
  },
  {
   "cell_type": "code",
   "execution_count": 71,
   "metadata": {},
   "outputs": [
    {
     "ename": "TypeError",
     "evalue": "'DataFrame' object is not callable",
     "output_type": "error",
     "traceback": [
      "\u001b[1;31m---------------------------------------------------------------------------\u001b[0m",
      "\u001b[1;31mTypeError\u001b[0m                                 Traceback (most recent call last)",
      "\u001b[1;32mc:\\Users\\Laptop 18\\Desktop\\Pastinaru Ionela\\bootcamp\\2022\\python_workshop\\notebooks\\10_test.ipynb Cell 36\u001b[0m in \u001b[0;36m<cell line: 5>\u001b[1;34m()\u001b[0m\n\u001b[0;32m      <a href='vscode-notebook-cell:/c%3A/Users/Laptop%2018/Desktop/Pastinaru%20Ionela/bootcamp/2022/python_workshop/notebooks/10_test.ipynb#X46sZmlsZQ%3D%3D?line=0'>1</a>\u001b[0m \u001b[39mfrom\u001b[39;00m \u001b[39mpandas\u001b[39;00m \u001b[39mimport\u001b[39;00m DataFrame\n\u001b[0;32m      <a href='vscode-notebook-cell:/c%3A/Users/Laptop%2018/Desktop/Pastinaru%20Ionela/bootcamp/2022/python_workshop/notebooks/10_test.ipynb#X46sZmlsZQ%3D%3D?line=2'>3</a>\u001b[0m df \u001b[39m=\u001b[39m DataFrame(hospitals)\n\u001b[1;32m----> <a href='vscode-notebook-cell:/c%3A/Users/Laptop%2018/Desktop/Pastinaru%20Ionela/bootcamp/2022/python_workshop/notebooks/10_test.ipynb#X46sZmlsZQ%3D%3D?line=4'>5</a>\u001b[0m stat \u001b[39m=\u001b[39m hospitals([hospitals[\u001b[39m'\u001b[39;49m\u001b[39mjudet\u001b[39;49m\u001b[39m'\u001b[39;49m] \u001b[39m==\u001b[39;49m \u001b[39m'\u001b[39;49m\u001b[39mjudet\u001b[39;49m\u001b[39m'\u001b[39;49m])\n\u001b[0;32m      <a href='vscode-notebook-cell:/c%3A/Users/Laptop%2018/Desktop/Pastinaru%20Ionela/bootcamp/2022/python_workshop/notebooks/10_test.ipynb#X46sZmlsZQ%3D%3D?line=5'>6</a>\u001b[0m stat\u001b[39m.\u001b[39mhead()\n",
      "\u001b[1;31mTypeError\u001b[0m: 'DataFrame' object is not callable"
     ]
    }
   ],
   "source": [
    "from pandas import DataFrame\n",
    "\n",
    "df = DataFrame(hospitals)\n",
    "\n",
    "stat = hospitals([hospitals['judet'] == 'judet'])\n",
    "stat.head()"
   ]
  },
  {
   "cell_type": "markdown",
   "metadata": {},
   "source": [
    "Create a plot that highlights\n",
    "* the number of accredited public hospitals\n",
    "* the number of accredited private hospitals\n",
    "* the number of unaccredited public hospitals\n",
    "* the number of unaccredited private hospitals\n",
    "\n",
    "The expected output for Bucuresti can be found  [here](/2022/python_workshop/notebooks/results/expected/output_test.png)."
   ]
  },
  {
   "cell_type": "code",
   "execution_count": null,
   "metadata": {},
   "outputs": [],
   "source": [
    "plot_acreditat = ..."
   ]
  },
  {
   "cell_type": "code",
   "execution_count": null,
   "metadata": {},
   "outputs": [],
   "source": []
  },
  {
   "cell_type": "code",
   "execution_count": null,
   "metadata": {},
   "outputs": [],
   "source": [
    "plot_neacreditat = ..."
   ]
  },
  {
   "cell_type": "code",
   "execution_count": null,
   "metadata": {},
   "outputs": [],
   "source": []
  },
  {
   "cell_type": "code",
   "execution_count": null,
   "metadata": {},
   "outputs": [],
   "source": [
    "plot_data = ...\n",
    "plot_data.head()"
   ]
  },
  {
   "cell_type": "code",
   "execution_count": null,
   "metadata": {},
   "outputs": [],
   "source": [
    "plot_data.plot(kind=\"bar\")"
   ]
  }
 ],
 "metadata": {
  "kernelspec": {
   "display_name": "Python 3.9.12 ('base')",
   "language": "python",
   "name": "python3"
  },
  "language_info": {
   "codemirror_mode": {
    "name": "ipython",
    "version": 3
   },
   "file_extension": ".py",
   "mimetype": "text/x-python",
   "name": "python",
   "nbconvert_exporter": "python",
   "pygments_lexer": "ipython3",
   "version": "3.9.12"
  },
  "orig_nbformat": 4,
  "vscode": {
   "interpreter": {
    "hash": "d31b83e9610685068a0fe73b54051d44dc1110027bef1c52e64b671e72faac45"
   }
  }
 },
 "nbformat": 4,
 "nbformat_minor": 2
}
